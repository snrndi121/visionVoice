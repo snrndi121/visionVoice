{
  "nbformat": 4,
  "nbformat_minor": 0,
  "metadata": {
    "colab": {
      "name": "uki_lip_train",
      "provenance": [],
      "collapsed_sections": [],
      "authorship_tag": "ABX9TyPDUGjSJENQp+nOCKjufnLH",
      "include_colab_link": true
    },
    "kernelspec": {
      "name": "python3",
      "display_name": "Python 3"
    },
    "accelerator": "TPU"
  },
  "cells": [
    {
      "cell_type": "markdown",
      "metadata": {
        "id": "view-in-github",
        "colab_type": "text"
      },
      "source": [
        "<a href=\"https://colab.research.google.com/github/ukiKwon/voice-separater-with-ripTracking/blob/master/uki_lip_train.ipynb\" target=\"_parent\"><img src=\"https://colab.research.google.com/assets/colab-badge.svg\" alt=\"Open In Colab\"/></a>"
      ]
    },
    {
      "cell_type": "code",
      "metadata": {
        "id": "5wHnLnMG_aOX",
        "colab_type": "code",
        "colab": {}
      },
      "source": [
        "# 구글 드라이브 마운트\n",
        "from google.colab import drive\n",
        "drive.mount('/content/gdrive/')"
      ],
      "execution_count": 0,
      "outputs": []
    },
    {
      "cell_type": "code",
      "metadata": {
        "id": "28pt2FwkqVzH",
        "colab_type": "code",
        "colab": {}
      },
      "source": [
        "# 기본 라이브러리\n",
        "%tensorflow_version 1.x\n",
        "#%tensorflow_version 2.x\n",
        "# 1. 텐서플로우\n",
        "#!pip install tensorflow==1.2\n",
        "\n",
        "# 2. 파이썬 오픈 cv2\n",
        "!pip install opencv-python h5py\n",
        "\n",
        "# 3. 케라스 재설치 \n",
        "#!pip install q keras==2.0.3\n",
        "#!pip uninstall keras\n",
        "#requirements.txt = keras-frcnn 에서 기입한 개발 환경 목록\n",
        "!pip install -r /content/gdrive/'My Drive'/keras-frcnn/requirements.txt \n"
      ],
      "execution_count": 0,
      "outputs": []
    },
    {
      "cell_type": "code",
      "metadata": {
        "id": "3qO_PA-QIiZC",
        "colab_type": "code",
        "colab": {}
      },
      "source": [
        "# 폴더 탐색되는 지 확인\n",
        "#!ls /content/gdrive/'My Drive'/keras-frcnn/\n",
        "\n",
        "#  파일 기본 경로 변경\n",
        "#!cd /content/gdrive/'My Drive'/keras-frcnn/\n",
        "%cd /content/gdrive/'My Drive'/keras-frcnn/\n",
        "\n",
        "\n",
        "# 현재 경로 확인\n",
        "!ls"
      ],
      "execution_count": 0,
      "outputs": []
    },
    {
      "cell_type": "code",
      "metadata": {
        "id": "MaSVrJzyAxKj",
        "colab_type": "code",
        "colab": {}
      },
      "source": [
        "#버전1\n",
        "#!python /content/gdrive/'My Drive'/keras-frcnn/train_frcnn.py --path /content/gdrive/'My Drive'/keras-frcnn/ --num_epochs 20  --output_weight_path ./lip_weight_train1.hdf5\n",
        "\n",
        "#버전2\n",
        "!python ./train_frcnn.py --path ./ --num_epochs 1 --config_filename ./lips_config.pickle --output_weight_path ./lip_weight_train1.hdf5\n",
        "\n",
        "# !python ./train_frcnn.py --path ./ --num_epochs 1 --config_filename ./lips_config.pickle --output_weight_path ./lip_weight_train.hdf5 --input_weight_path ./lip_weight_train1.hdf5"
      ],
      "execution_count": 0,
      "outputs": []
    },
    {
      "cell_type": "code",
      "metadata": {
        "id": "Be__S2wIHuRk",
        "colab_type": "code",
        "colab": {}
      },
      "source": [
        "# 테스트 시행\n",
        "!python ./test_frcnn.py --path ./images --config_filename ./lips_config.pickle"
      ],
      "execution_count": 0,
      "outputs": []
    },
    {
      "cell_type": "code",
      "metadata": {
        "id": "NJIN-4p6HVuR",
        "colab_type": "code",
        "colab": {}
      },
      "source": [
        "# colab 내 경로 확인 테스트\n",
        "#!ls /content/gdrive/'My Drive'/keras-frcnn/\n",
        "\n",
        "#!ls /content/gdrive/My Drive/keras-frcnn/\n",
        "\n",
        "#!ls /content/gdrive/My\\ Drive/keras-frcnn/"
      ],
      "execution_count": 0,
      "outputs": []
    }
  ]
}